{
 "cells": [
  {
   "cell_type": "code",
   "execution_count": 1,
   "metadata": {},
   "outputs": [],
   "source": [
    "%load_ext sql"
   ]
  },
  {
   "cell_type": "code",
   "execution_count": 3,
   "metadata": {},
   "outputs": [
    {
     "data": {
      "text/plain": [
       "'Connected: postgres@postgres'"
      ]
     },
     "execution_count": 3,
     "metadata": {},
     "output_type": "execute_result"
    }
   ],
   "source": [
    "%sql postgresql://postgres@psql:5432/postgres"
   ]
  },
  {
   "cell_type": "code",
   "execution_count": 4,
   "metadata": {},
   "outputs": [
    {
     "name": "stdout",
     "output_type": "stream",
     "text": [
      "10 rows affected.\n"
     ]
    },
    {
     "data": {
      "text/html": [
       "<table>\n",
       "    <tr>\n",
       "        <th>location</th>\n",
       "        <th>subject</th>\n",
       "        <th>time</th>\n",
       "        <th>value</th>\n",
       "    </tr>\n",
       "    <tr>\n",
       "        <td>1</td>\n",
       "        <td>7</td>\n",
       "        <td>1960</td>\n",
       "        <td>67.9</td>\n",
       "    </tr>\n",
       "    <tr>\n",
       "        <td>1</td>\n",
       "        <td>7</td>\n",
       "        <td>1961</td>\n",
       "        <td>68.0</td>\n",
       "    </tr>\n",
       "    <tr>\n",
       "        <td>1</td>\n",
       "        <td>7</td>\n",
       "        <td>1962</td>\n",
       "        <td>67.8</td>\n",
       "    </tr>\n",
       "    <tr>\n",
       "        <td>1</td>\n",
       "        <td>7</td>\n",
       "        <td>1963</td>\n",
       "        <td>67.9</td>\n",
       "    </tr>\n",
       "    <tr>\n",
       "        <td>1</td>\n",
       "        <td>7</td>\n",
       "        <td>1964</td>\n",
       "        <td>67.5</td>\n",
       "    </tr>\n",
       "    <tr>\n",
       "        <td>1</td>\n",
       "        <td>7</td>\n",
       "        <td>1965</td>\n",
       "        <td>67.7</td>\n",
       "    </tr>\n",
       "    <tr>\n",
       "        <td>1</td>\n",
       "        <td>7</td>\n",
       "        <td>1966</td>\n",
       "        <td>67.6</td>\n",
       "    </tr>\n",
       "    <tr>\n",
       "        <td>1</td>\n",
       "        <td>7</td>\n",
       "        <td>1967</td>\n",
       "        <td>67.8</td>\n",
       "    </tr>\n",
       "    <tr>\n",
       "        <td>1</td>\n",
       "        <td>7</td>\n",
       "        <td>1968</td>\n",
       "        <td>67.5</td>\n",
       "    </tr>\n",
       "    <tr>\n",
       "        <td>1</td>\n",
       "        <td>7</td>\n",
       "        <td>1969</td>\n",
       "        <td>67.5</td>\n",
       "    </tr>\n",
       "</table>"
      ],
      "text/plain": [
       "[(1, 7, '1960', 67.9),\n",
       " (1, 7, '1961', 68.0),\n",
       " (1, 7, '1962', 67.8),\n",
       " (1, 7, '1963', 67.9),\n",
       " (1, 7, '1964', 67.5),\n",
       " (1, 7, '1965', 67.7),\n",
       " (1, 7, '1966', 67.6),\n",
       " (1, 7, '1967', 67.8),\n",
       " (1, 7, '1968', 67.5),\n",
       " (1, 7, '1969', 67.5)]"
      ]
     },
     "execution_count": 4,
     "metadata": {},
     "output_type": "execute_result"
    }
   ],
   "source": [
    "%sql SELECT * FROM Life LIMIT 10;"
   ]
  },
  {
   "cell_type": "code",
   "execution_count": 127,
   "metadata": {},
   "outputs": [
    {
     "name": "stdout",
     "output_type": "stream",
     "text": [
      "10 rows affected.\n"
     ]
    },
    {
     "data": {
      "text/html": [
       "<table>\n",
       "    <tr>\n",
       "        <th>location</th>\n",
       "        <th>subject</th>\n",
       "        <th>meassure_type</th>\n",
       "        <th>time</th>\n",
       "        <th>value</th>\n",
       "    </tr>\n",
       "    <tr>\n",
       "        <td>1</td>\n",
       "        <td>6</td>\n",
       "        <td>MLN_USD</td>\n",
       "        <td>1960</td>\n",
       "        <td>25029.0336</td>\n",
       "    </tr>\n",
       "    <tr>\n",
       "        <td>1</td>\n",
       "        <td>6</td>\n",
       "        <td>MLN_USD</td>\n",
       "        <td>1961</td>\n",
       "        <td>25320.6787</td>\n",
       "    </tr>\n",
       "    <tr>\n",
       "        <td>1</td>\n",
       "        <td>6</td>\n",
       "        <td>MLN_USD</td>\n",
       "        <td>1962</td>\n",
       "        <td>27905.9382</td>\n",
       "    </tr>\n",
       "    <tr>\n",
       "        <td>1</td>\n",
       "        <td>6</td>\n",
       "        <td>MLN_USD</td>\n",
       "        <td>1963</td>\n",
       "        <td>30378.5632</td>\n",
       "    </tr>\n",
       "    <tr>\n",
       "        <td>1</td>\n",
       "        <td>6</td>\n",
       "        <td>MLN_USD</td>\n",
       "        <td>1964</td>\n",
       "        <td>32687.4079</td>\n",
       "    </tr>\n",
       "    <tr>\n",
       "        <td>1</td>\n",
       "        <td>6</td>\n",
       "        <td>MLN_USD</td>\n",
       "        <td>1965</td>\n",
       "        <td>34481.4258</td>\n",
       "    </tr>\n",
       "    <tr>\n",
       "        <td>1</td>\n",
       "        <td>6</td>\n",
       "        <td>MLN_USD</td>\n",
       "        <td>1966</td>\n",
       "        <td>38275.4368</td>\n",
       "    </tr>\n",
       "    <tr>\n",
       "        <td>1</td>\n",
       "        <td>6</td>\n",
       "        <td>MLN_USD</td>\n",
       "        <td>1967</td>\n",
       "        <td>40994.175</td>\n",
       "    </tr>\n",
       "    <tr>\n",
       "        <td>1</td>\n",
       "        <td>6</td>\n",
       "        <td>MLN_USD</td>\n",
       "        <td>1968</td>\n",
       "        <td>46477.0639</td>\n",
       "    </tr>\n",
       "    <tr>\n",
       "        <td>1</td>\n",
       "        <td>6</td>\n",
       "        <td>MLN_USD</td>\n",
       "        <td>1969</td>\n",
       "        <td>52119.205</td>\n",
       "    </tr>\n",
       "</table>"
      ],
      "text/plain": [
       "[(1, 6, 'MLN_USD', '1960', 25029.0336),\n",
       " (1, 6, 'MLN_USD', '1961', 25320.6787),\n",
       " (1, 6, 'MLN_USD', '1962', 27905.9382),\n",
       " (1, 6, 'MLN_USD', '1963', 30378.5632),\n",
       " (1, 6, 'MLN_USD', '1964', 32687.4079),\n",
       " (1, 6, 'MLN_USD', '1965', 34481.4258),\n",
       " (1, 6, 'MLN_USD', '1966', 38275.4368),\n",
       " (1, 6, 'MLN_USD', '1967', 40994.175),\n",
       " (1, 6, 'MLN_USD', '1968', 46477.0639),\n",
       " (1, 6, 'MLN_USD', '1969', 52119.205)]"
      ]
     },
     "execution_count": 127,
     "metadata": {},
     "output_type": "execute_result"
    }
   ],
   "source": [
    "%sql SELECT * FROM GDP LIMIT 10;"
   ]
  },
  {
   "cell_type": "code",
   "execution_count": 129,
   "metadata": {},
   "outputs": [
    {
     "name": "stdout",
     "output_type": "stream",
     "text": [
      "Done.\n",
      "Done.\n"
     ]
    },
    {
     "data": {
      "text/plain": [
       "[]"
      ]
     },
     "execution_count": 129,
     "metadata": {},
     "output_type": "execute_result"
    }
   ],
   "source": [
    "%%sql \n",
    "DROP VIEW max CASCADE;\n",
    "CREATE VIEW max as \n",
    "SELECT location, MAX(time) as time FROM GDP GROUP BY location"
   ]
  },
  {
   "cell_type": "code",
   "execution_count": 130,
   "metadata": {},
   "outputs": [
    {
     "name": "stdout",
     "output_type": "stream",
     "text": [
      "Done.\n",
      "Done.\n"
     ]
    },
    {
     "data": {
      "text/plain": [
       "[]"
      ]
     },
     "execution_count": 130,
     "metadata": {},
     "output_type": "execute_result"
    }
   ],
   "source": [
    "%%sql \n",
    "DROP VIEW min CASCADE;\n",
    "CREATE VIEW min as \n",
    "SELECT location, MIN(time) as time FROM GDP GROUP BY location"
   ]
  },
  {
   "cell_type": "code",
   "execution_count": 140,
   "metadata": {},
   "outputs": [
    {
     "name": "stdout",
     "output_type": "stream",
     "text": [
      "Done.\n",
      "Done.\n"
     ]
    },
    {
     "data": {
      "text/plain": [
       "[]"
      ]
     },
     "execution_count": 140,
     "metadata": {},
     "output_type": "execute_result"
    }
   ],
   "source": [
    "%%sql \n",
    "DROP VIEW maxexp CASCADE;\n",
    "CREATE VIEW maxexp as\n",
    "SELECT location, AVG(value) from max JOIN GDP USING(location, time) GROUP BY location ORDER BY location ASC"
   ]
  },
  {
   "cell_type": "code",
   "execution_count": 141,
   "metadata": {},
   "outputs": [
    {
     "name": "stdout",
     "output_type": "stream",
     "text": [
      "Done.\n",
      "Done.\n"
     ]
    },
    {
     "data": {
      "text/plain": [
       "[]"
      ]
     },
     "execution_count": 141,
     "metadata": {},
     "output_type": "execute_result"
    }
   ],
   "source": [
    "%%sql \n",
    "DROP VIEW minexp CASCADE;\n",
    "CREATE VIEW minexp as\n",
    "SELECT location, AVG(value) from min JOIN GDP USING(location, time) GROUP BY location ORDER BY location ASC"
   ]
  },
  {
   "cell_type": "code",
   "execution_count": 144,
   "metadata": {},
   "outputs": [
    {
     "name": "stdout",
     "output_type": "stream",
     "text": [
      "Done.\n",
      "Done.\n"
     ]
    },
    {
     "data": {
      "text/plain": [
       "[]"
      ]
     },
     "execution_count": 144,
     "metadata": {},
     "output_type": "execute_result"
    }
   ],
   "source": [
    "%%sql \n",
    "DROP VIEW growth CASCADE;\n",
    "CREATE VIEW growth as\n",
    "SELECT location, (maxexp.avg-minexp.avg)/minexp.avg*100 as gro FROM minexp JOIN maxexp USING (location) ORDER BY gro ASC"
   ]
  },
  {
   "cell_type": "code",
   "execution_count": 145,
   "metadata": {},
   "outputs": [
    {
     "name": "stdout",
     "output_type": "stream",
     "text": [
      "1 rows affected.\n"
     ]
    },
    {
     "data": {
      "text/html": [
       "<table>\n",
       "    <tr>\n",
       "        <th>location</th>\n",
       "        <th>countrycode</th>\n",
       "        <th>gro</th>\n",
       "    </tr>\n",
       "    <tr>\n",
       "        <td>28</td>\n",
       "        <td>KOR</td>\n",
       "        <td>9873.41742757829</td>\n",
       "    </tr>\n",
       "</table>"
      ],
      "text/plain": [
       "[(28, 'KOR', 9873.41742757829)]"
      ]
     },
     "execution_count": 145,
     "metadata": {},
     "output_type": "execute_result"
    }
   ],
   "source": [
    "%%sql\n",
    "SELECT growth.location, locations.countrycode, growth.gro \n",
    "FROM growth \n",
    "JOIN locations ON locations.id=growth.location\n",
    "WHERE gro=(SELECT MAX(gro) FROM growth) "
   ]
  },
  {
   "cell_type": "code",
   "execution_count": 146,
   "metadata": {},
   "outputs": [
    {
     "name": "stdout",
     "output_type": "stream",
     "text": [
      "1 rows affected.\n"
     ]
    },
    {
     "data": {
      "text/html": [
       "<table>\n",
       "    <tr>\n",
       "        <th>location</th>\n",
       "        <th>countrycode</th>\n",
       "        <th>gro</th>\n",
       "    </tr>\n",
       "    <tr>\n",
       "        <td>4</td>\n",
       "        <td>BRA</td>\n",
       "        <td>23.0186781335712</td>\n",
       "    </tr>\n",
       "</table>"
      ],
      "text/plain": [
       "[(4, 'BRA', 23.0186781335712)]"
      ]
     },
     "execution_count": 146,
     "metadata": {},
     "output_type": "execute_result"
    }
   ],
   "source": [
    "%%sql\n",
    "SELECT growth.location, locations.countrycode, growth.gro \n",
    "FROM growth \n",
    "JOIN locations ON locations.id=growth.location\n",
    "WHERE gro=(SELECT MIN(gro) FROM growth) "
   ]
  },
  {
   "cell_type": "code",
   "execution_count": 204,
   "metadata": {},
   "outputs": [
    {
     "name": "stdout",
     "output_type": "stream",
     "text": [
      "1 rows affected.\n"
     ]
    },
    {
     "data": {
      "text/html": [
       "<table>\n",
       "    <tr>\n",
       "        <th>location</th>\n",
       "        <th>time</th>\n",
       "    </tr>\n",
       "    <tr>\n",
       "        <td>28</td>\n",
       "        <td>2015</td>\n",
       "    </tr>\n",
       "</table>"
      ],
      "text/plain": [
       "[(28, '2015')]"
      ]
     },
     "execution_count": 204,
     "metadata": {},
     "output_type": "execute_result"
    }
   ],
   "source": [
    "%%sql\n",
    "SELECT location, MAX(time) as time FROM Life WHERE location=28 GROUP BY location"
   ]
  },
  {
   "cell_type": "code",
   "execution_count": 188,
   "metadata": {},
   "outputs": [
    {
     "name": "stdout",
     "output_type": "stream",
     "text": [
      "Done.\n",
      "Done.\n"
     ]
    },
    {
     "data": {
      "text/plain": [
       "[]"
      ]
     },
     "execution_count": 188,
     "metadata": {},
     "output_type": "execute_result"
    }
   ],
   "source": [
    "%%sql \n",
    "DROP VIEW bralife;\n",
    "CREATE VIEW bralife as\n",
    "SELECT location, time, AVG(value) as value FROM Life \n",
    "WHERE Life.location=4\n",
    "GROUP BY time, location\n",
    "ORDER BY time ASC\n"
   ]
  },
  {
   "cell_type": "code",
   "execution_count": 194,
   "metadata": {},
   "outputs": [
    {
     "name": "stdout",
     "output_type": "stream",
     "text": [
      "Done.\n"
     ]
    },
    {
     "data": {
      "text/plain": [
       "[]"
      ]
     },
     "execution_count": 194,
     "metadata": {},
     "output_type": "execute_result"
    }
   ],
   "source": [
    "%%sql \n",
    "CREATE VIEW brasilian as\n",
    "SELECT Education.location, Education.time, AVG(Education.value) as eduscore, AVG(bralife.value) as lifeexp FROM Education\n",
    "JOIN bralife USING(time)\n",
    "WHERE Education.location=4\n",
    "GROUP BY Education.time, Education.location\n",
    "ORDER BY Education.time ASC"
   ]
  },
  {
   "cell_type": "code",
   "execution_count": 196,
   "metadata": {},
   "outputs": [
    {
     "name": "stdout",
     "output_type": "stream",
     "text": [
      "8 rows affected.\n"
     ]
    },
    {
     "data": {
      "text/html": [
       "<table>\n",
       "    <tr>\n",
       "        <th>location</th>\n",
       "        <th>time</th>\n",
       "        <th>eduscore</th>\n",
       "        <th>lifeexp</th>\n",
       "    </tr>\n",
       "    <tr>\n",
       "        <td>4</td>\n",
       "        <td>2007</td>\n",
       "        <td>23.83258182</td>\n",
       "        <td>72.4666666666667</td>\n",
       "    </tr>\n",
       "    <tr>\n",
       "        <td>4</td>\n",
       "        <td>2008</td>\n",
       "        <td>24.29341292</td>\n",
       "        <td>72.7666666666667</td>\n",
       "    </tr>\n",
       "    <tr>\n",
       "        <td>4</td>\n",
       "        <td>2009</td>\n",
       "        <td>24.32397804</td>\n",
       "        <td>73.0666666666667</td>\n",
       "    </tr>\n",
       "    <tr>\n",
       "        <td>4</td>\n",
       "        <td>2011</td>\n",
       "        <td>24.6206972</td>\n",
       "        <td>73.6</td>\n",
       "    </tr>\n",
       "    <tr>\n",
       "        <td>4</td>\n",
       "        <td>2012</td>\n",
       "        <td>25.1660944</td>\n",
       "        <td>73.8666666666667</td>\n",
       "    </tr>\n",
       "    <tr>\n",
       "        <td>4</td>\n",
       "        <td>2013</td>\n",
       "        <td>25.4640932</td>\n",
       "        <td>74.1666666666667</td>\n",
       "    </tr>\n",
       "    <tr>\n",
       "        <td>4</td>\n",
       "        <td>2014</td>\n",
       "        <td>25.6887944</td>\n",
       "        <td>74.4666666666667</td>\n",
       "    </tr>\n",
       "    <tr>\n",
       "        <td>4</td>\n",
       "        <td>2015</td>\n",
       "        <td>25.8787774</td>\n",
       "        <td>74.7333333333333</td>\n",
       "    </tr>\n",
       "</table>"
      ],
      "text/plain": [
       "[(4, '2007', 23.83258182, 72.4666666666667),\n",
       " (4, '2008', 24.29341292, 72.7666666666667),\n",
       " (4, '2009', 24.32397804, 73.0666666666667),\n",
       " (4, '2011', 24.6206972, 73.6),\n",
       " (4, '2012', 25.1660944, 73.8666666666667),\n",
       " (4, '2013', 25.4640932, 74.1666666666667),\n",
       " (4, '2014', 25.6887944, 74.4666666666667),\n",
       " (4, '2015', 25.8787774, 74.7333333333333)]"
      ]
     },
     "execution_count": 196,
     "metadata": {},
     "output_type": "execute_result"
    }
   ],
   "source": [
    "%sql SELECT * FROM brasilian;"
   ]
  },
  {
   "cell_type": "code",
   "execution_count": 197,
   "metadata": {},
   "outputs": [],
   "source": [
    "import matplotlib.pyplot as plt"
   ]
  },
  {
   "cell_type": "code",
   "execution_count": 198,
   "metadata": {},
   "outputs": [
    {
     "name": "stdout",
     "output_type": "stream",
     "text": [
      "8 rows affected.\n"
     ]
    }
   ],
   "source": [
    "result = %sql SELECT eduscore, lifeexp FROM brasilian"
   ]
  },
  {
   "cell_type": "code",
   "execution_count": 199,
   "metadata": {},
   "outputs": [
    {
     "data": {
      "image/png": "[encoded data removed]",
      "text/plain": [
       "<matplotlib.figure.Figure at 0x7f8d70464748>"
      ]
     },
     "metadata": {},
     "output_type": "display_data"
    }
   ],
   "source": [
    "list1, list2 = zip(*result)\n",
    "plt.scatter(list1,list2)\n",
    "plt.show()"
   ]
  },
  {
   "cell_type": "code",
   "execution_count": 200,
   "metadata": {},
   "outputs": [
    {
     "name": "stdout",
     "output_type": "stream",
     "text": [
      "Done.\n"
     ]
    },
    {
     "data": {
      "text/plain": [
       "[]"
      ]
     },
     "execution_count": 200,
     "metadata": {},
     "output_type": "execute_result"
    }
   ],
   "source": [
    "%%sql \n",
    "CREATE VIEW korea as\n",
    "SELECT Education.location, Education.time, AVG(Education.value) as eduscore, AVG(bralife.value) as lifeexp FROM Education\n",
    "JOIN bralife USING(time)\n",
    "WHERE Education.location=28\n",
    "GROUP BY Education.time, Education.location\n",
    "ORDER BY Education.time ASC"
   ]
  },
  {
   "cell_type": "code",
   "execution_count": 201,
   "metadata": {},
   "outputs": [
    {
     "name": "stdout",
     "output_type": "stream",
     "text": [
      "20 rows affected.\n"
     ]
    }
   ],
   "source": [
    "result = %sql SELECT eduscore, lifeexp FROM korea"
   ]
  },
  {
   "cell_type": "code",
   "execution_count": 202,
   "metadata": {},
   "outputs": [
    {
     "data": {
      "image/png": "[encoded data removed]",
      "text/plain": [
       "<matplotlib.figure.Figure at 0x7f8d70317e10>"
      ]
     },
     "metadata": {},
     "output_type": "display_data"
    }
   ],
   "source": [
    "list1, list2 = zip(*result)\n",
    "plt.scatter(list1,list2)\n",
    "plt.show()"
   ]
  },
  {
   "cell_type": "code",
   "execution_count": null,
   "metadata": {},
   "outputs": [],
   "source": []
  }
 ],
 "metadata": {
  "kernelspec": {
   "display_name": "Python 3",
   "language": "python",
   "name": "python3"
  },
  "language_info": {
   "codemirror_mode": {
    "name": "ipython",
    "version": 3
   },
   "file_extension": ".py",
   "mimetype": "text/x-python",
   "name": "python",
   "nbconvert_exporter": "python",
   "pygments_lexer": "ipython3",
   "version": "3.6.3"
  }
 },
 "nbformat": 4,
 "nbformat_minor": 2
}
